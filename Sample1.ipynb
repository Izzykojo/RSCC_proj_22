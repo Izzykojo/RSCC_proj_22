{
 "cells": [
  {
   "cell_type": "code",
   "execution_count": 1,
   "id": "binding-glance",
   "metadata": {},
   "outputs": [],
   "source": [
    "import warnings\n",
    "warnings.filterwarnings('ignore')\n",
    "\n",
    "import ipywidgets as widgets\n",
    "from IPython.display import display, clear_output\n"
   ]
  },
  {
   "cell_type": "code",
   "execution_count": 2,
   "id": "informal-powell",
   "metadata": {},
   "outputs": [],
   "source": [
    "#!jupyter nbextension enable --py widgetsnbextension --sys-prefix\n",
    "#!jupyter serverextension enable voila --sys-prefix"
   ]
  },
  {
   "cell_type": "code",
   "execution_count": 3,
   "id": "reflected-speaker",
   "metadata": {},
   "outputs": [
    {
     "data": {
      "application/vnd.jupyter.widget-view+json": {
       "model_id": "88b1cf5598dc4633bafcaee431c3c156",
       "version_major": 2,
       "version_minor": 0
      },
      "text/plain": [
       "HBox(children=(VBox(children=(Image(value=b'\\xff\\xd8\\xff\\xe0\\x00\\x10JFIF\\x00\\x01\\x01\\x00\\x00\\x01\\x00\\x01\\x00\\x…"
      ]
     },
     "metadata": {},
     "output_type": "display_data"
    }
   ],
   "source": [
    "# Izzy Image Widget\n",
    "\n",
    "file = open(\"israel.jpeg\", \"rb\")\n",
    "image = file.read()\n",
    "\n",
    "image_headline = widgets.Image(\n",
    "                    value=image,\n",
    "                    format='jpeg',\n",
    "                    width='300'\n",
    "                )\n",
    "\n",
    "label_headline = widgets.Label(\n",
    "                    value='Photo by Izzy - RSCC-GSSTI',\n",
    "                    style={'description_width': 'initial'}\n",
    "                )\n",
    "\n",
    "vbox_headline = widgets.VBox([image_headline, label_headline])\n",
    "\n",
    "\n",
    "# stacked right hand side\n",
    "\n",
    "text_0 = widgets.HTML(value=\"<h3>Israel Sarpong-Adu</h3>\")\n",
    "text_1 = widgets.HTML(value=\"<h4>Email: izzykojo@gmail.com</h4>\")\n",
    "text_2= widgets.HTML(value=\"<h4>Address: GE-270-7088</h4>\")\n",
    "text_3= widgets.HTML(value=\"<h4>Phone: 0244702414</h4>\")\n",
    "text_4= widgets.HTML(value=\"<h4>Workplace: RSCC-GSSTI</h4>\")\n",
    "text_5= widgets.HTML(value=\"<h4>Your Role: National Service Person</h4>\")\n",
    "\n",
    "vbox_text = widgets.VBox([text_0, text_1, text_2, text_3, text_4, text_5])\n",
    "\n",
    "\n",
    "Israel = widgets.HBox([vbox_headline, vbox_text])\n",
    "display(Israel)"
   ]
  },
  {
   "cell_type": "code",
   "execution_count": 4,
   "id": "2b862b54",
   "metadata": {},
   "outputs": [
    {
     "data": {
      "application/vnd.jupyter.widget-view+json": {
       "model_id": "6663882b469b420f81f91614a372b2ea",
       "version_major": 2,
       "version_minor": 0
      },
      "text/plain": [
       "HBox(children=(VBox(children=(Image(value=b'\\xff\\xd8\\xff\\xe1\\x02\\xb0Exif\\x00\\x00II*\\x00\\x08\\x00\\x00\\x00\\x0c\\x0…"
      ]
     },
     "metadata": {},
     "output_type": "display_data"
    }
   ],
   "source": [
    "# Kweku Image Widget\n",
    "\n",
    "file = open(\"kweku.jpg\", \"rb\")\n",
    "image = file.read()\n",
    "\n",
    "image_headline = widgets.Image(\n",
    "                    value=image,\n",
    "                    format='jpg',\n",
    "                    width='300'\n",
    "                )\n",
    "\n",
    "label_headline = widgets.Label(\n",
    "                    value='Photo by Izzy - RSCC-GSSTI',\n",
    "                    style={'description_width': 'initial'}\n",
    "                )\n",
    "\n",
    "vbox_headline = widgets.VBox([image_headline, label_headline])\n",
    "\n",
    "\n",
    "# stacked right hand side\n",
    "\n",
    "text_0 = widgets.HTML(value=\"<h3>Kweku Afful</h3>\")\n",
    "text_1 = widgets.HTML(value=\"<h4>Email: kwekufidelis@gmail.com</h4>\")\n",
    "text_2= widgets.HTML(value=\"<h4>Address: Adentan SSNIT flats</h4>\")\n",
    "text_3= widgets.HTML(value=\"<h4>Phone: 0557823576</h4>\")\n",
    "text_4= widgets.HTML(value=\"<h4>Workplace: GSSTI</h4>\")\n",
    "text_5= widgets.HTML(value=\"<h4>Your Role: Research Assistant /h4>\")\n",
    "\n",
    "vbox_text = widgets.VBox([text_0, text_1, text_2, text_3, text_4, text_5])\n",
    "\n",
    "\n",
    "Kweku = widgets.HBox([vbox_headline, vbox_text])\n",
    "display(Kweku)"
   ]
  },
  {
   "cell_type": "code",
   "execution_count": 5,
   "id": "10e96b2f",
   "metadata": {},
   "outputs": [
    {
     "data": {
      "application/vnd.jupyter.widget-view+json": {
       "model_id": "d79baf7d6e0b44fd8dfe979d9d65bd24",
       "version_major": 2,
       "version_minor": 0
      },
      "text/plain": [
       "HBox(children=(VBox(children=(Image(value=b'\\xff\\xd8\\xff\\xe0\\x00\\x10JFIF\\x00\\x01\\x01\\x01\\x00H\\x00H\\x00\\x00\\xff…"
      ]
     },
     "metadata": {},
     "output_type": "display_data"
    }
   ],
   "source": [
    "# Nusrat Image Widget\n",
    "\n",
    "file = open(\"nusrat.jpg\", \"rb\")\n",
    "image = file.read()\n",
    "\n",
    "image_headline = widgets.Image(\n",
    "                    value=image,\n",
    "                    format='jpg',\n",
    "                    width='300'\n",
    "                )\n",
    "\n",
    "label_headline = widgets.Label(\n",
    "                    value='Photo by Izzy - RSCC-GSSTI',\n",
    "                    style={'description_width': 'initial'}\n",
    "                )\n",
    "\n",
    "vbox_headline = widgets.VBox([image_headline, label_headline])\n",
    "\n",
    "\n",
    "# stacked right hand side\n",
    "\n",
    "text_0 = widgets.HTML(value=\"<h3>Nusrat Hameed</h3>\")\n",
    "text_1 = widgets.HTML(value=\"<h4>Email: nusrathameed551@gmail.com</h4>\")\n",
    "text_2= widgets.HTML(value=\"<h4>Address: GC-030-300</h4>\")\n",
    "text_3= widgets.HTML(value=\"<h4>Phone: 0241334551</h4>\")\n",
    "text_4= widgets.HTML(value=\"<h4>Workplace: GSSTI</h4>\")\n",
    "text_5= widgets.HTML(value=\"<h4>Your Role: National Service Person</h4>\")\n",
    "\n",
    "vbox_text = widgets.VBox([text_0, text_1, text_2, text_3, text_4, text_5])\n",
    "\n",
    "\n",
    "Nusrat = widgets.HBox([vbox_headline, vbox_text])\n",
    "display(Nusrat)"
   ]
  },
  {
   "cell_type": "code",
   "execution_count": 6,
   "id": "8531807e",
   "metadata": {},
   "outputs": [
    {
     "data": {
      "application/vnd.jupyter.widget-view+json": {
       "model_id": "514cdbbd5f8f47bf84b0b120ebab913d",
       "version_major": 2,
       "version_minor": 0
      },
      "text/plain": [
       "HBox(children=(VBox(children=(Image(value=b'\\xff\\xd8\\xff\\xe13\\xceExif\\x00\\x00MM\\x00*\\x00\\x00\\x00\\x08\\x00\\x10\\x…"
      ]
     },
     "metadata": {},
     "output_type": "display_data"
    }
   ],
   "source": [
    "# Mike Image Widget\n",
    "\n",
    "file = open(\"mike.jpg\", \"rb\")\n",
    "image = file.read()\n",
    "\n",
    "image_headline = widgets.Image(\n",
    "                    value=image,\n",
    "                    format='jpg',\n",
    "                    width='300'\n",
    "                )\n",
    "\n",
    "label_headline = widgets.Label(\n",
    "                    value='Photo by Izzy - RSCC-GSSTI',\n",
    "                    style={'description_width': 'initial'}\n",
    "                )\n",
    "\n",
    "vbox_headline = widgets.VBox([image_headline, label_headline])\n",
    "\n",
    "\n",
    "# stacked right hand side\n",
    "\n",
    "text_0 = widgets.HTML(value=\"<h3>Michael Owusu Agyei</h3>\")\n",
    "text_1 = widgets.HTML(value=\"<h4>Email: micagyeiowu4002021@gmail.com</h4>\")\n",
    "text_2= widgets.HTML(value=\"<h4>Address: P.O BOX 39, NSAWAM</h4>\")\n",
    "text_3= widgets.HTML(value=\"<h4>Phone: 0550656514</h4>\")\n",
    "text_4= widgets.HTML(value=\"<h4>Workplace: GSSTI</h4>\")\n",
    "text_5= widgets.HTML(value=\"<h4>Your Role: National Service Person</h4>\")\n",
    "\n",
    "vbox_text = widgets.VBox([text_0, text_1, text_2, text_3, text_4, text_5])\n",
    "\n",
    "\n",
    "Micheal = widgets.HBox([vbox_headline, vbox_text])\n",
    "display(Micheal)"
   ]
  },
  {
   "cell_type": "code",
   "execution_count": 11,
   "id": "f49a99a5",
   "metadata": {},
   "outputs": [
    {
     "data": {
      "application/vnd.jupyter.widget-view+json": {
       "model_id": "f756e35ddd7b43de8ceb07561f95dc8c",
       "version_major": 2,
       "version_minor": 0
      },
      "text/plain": [
       "Dropdown(description='Results:', index=3, options=('Israel', 'Kweku', 'Nusrat', 'Micheal'), value='Micheal')"
      ]
     },
     "metadata": {},
     "output_type": "display_data"
    }
   ],
   "source": [
    "drop = widgets.Dropdown(\n",
    "    options=['Israel', 'Kweku', 'Nusrat','Micheal'],\n",
    "    value='Micheal',\n",
    "    description='Results:',\n",
    "    disabled=False,\n",
    ") \n",
    "display(drop)\n",
    "\n",
    "output = widgets.Output()\n",
    "\n",
    "def on_button_clicked(event):\n",
    "    with output:\n",
    "        clear_output()\n",
    "        print(Israel)\n",
    "        display(Micheal)\n",
    "        display(Nusrat)\n",
    "        display(Kweku)\n",
    "        \n",
    "\n",
    "vbox_results = widgets.HBox([vbox_headline, vbox_text])"
   ]
  },
  {
   "cell_type": "code",
   "execution_count": 8,
   "id": "a9a73dee",
   "metadata": {},
   "outputs": [
    {
     "name": "stdout",
     "output_type": "stream",
     "text": [
      "['__class__', '__del__', '__delattr__', '__dict__', '__dir__', '__doc__', '__eq__', '__format__', '__ge__', '__getattribute__', '__getstate__', '__gt__', '__hash__', '__init__', '__init_subclass__', '__le__', '__lt__', '__module__', '__ne__', '__new__', '__reduce__', '__reduce_ex__', '__repr__', '__setattr__', '__setstate__', '__sizeof__', '__str__', '__subclasshook__', '__weakref__', '_add_notifiers', '_call_widget_constructed', '_comm_changed', '_compare', '_control_comm', '_cross_validation_lock', '_default_keys', '_display_callbacks', '_dom_classes', '_gen_repr_from_keys', '_get_embed_state', '_get_trait_default_generator', '_handle_control_comm_msg', '_handle_custom_msg', '_handle_displayed', '_handle_msg', '_holding_sync', '_initializing_traits_', '_ipython_display_', '_is_numpy', '_lock_property', '_log_default', '_model_id', '_model_module', '_model_module_version', '_model_name', '_msg_callbacks', '_notify_observers', '_notify_trait', '_options_full', '_options_labels', '_options_values', '_propagate_index', '_propagate_label', '_propagate_options', '_propagate_value', '_property_lock', '_register_validator', '_remove_notifiers', '_repr_keys', '_send', '_should_send_property', '_states_to_send', '_trait_default_generators', '_trait_from_json', '_trait_notifiers', '_trait_to_json', '_trait_validators', '_trait_values', '_validate_index', '_validate_label', '_validate_options', '_validate_value', '_view_count', '_view_module', '_view_module_version', '_view_name', '_widget_construction_callback', 'add_class', 'add_traits', 'class_own_trait_events', 'class_own_traits', 'class_trait_names', 'class_traits', 'close', 'close_all', 'comm', 'cross_validation_lock', 'description', 'description_tooltip', 'disabled', 'equals', 'get_interact_value', 'get_manager_state', 'get_state', 'get_view_spec', 'handle_comm_opened', 'handle_control_comm_opened', 'has_trait', 'hold_sync', 'hold_trait_notifications', 'index', 'keys', 'label', 'layout', 'log', 'model_id', 'notify_change', 'observe', 'on_displayed', 'on_msg', 'on_trait_change', 'on_widget_constructed', 'open', 'options', 'remove_class', 'send', 'send_state', 'set_state', 'set_trait', 'setup_instance', 'style', 'trait_defaults', 'trait_events', 'trait_has_value', 'trait_metadata', 'trait_names', 'trait_values', 'traits', 'unobserve', 'unobserve_all', 'value', 'widget_types', 'widgets']\n"
     ]
    }
   ],
   "source": [
    "attributes = dir(drop)\n",
    "print(attributes)\n"
   ]
  },
  {
   "cell_type": "code",
   "execution_count": 9,
   "id": "9a01de54",
   "metadata": {},
   "outputs": [
    {
     "data": {
      "application/vnd.jupyter.widget-view+json": {
       "model_id": "1d6972fa4d2746209424e2bc5df8b805",
       "version_major": 2,
       "version_minor": 0
      },
      "text/plain": [
       "Dropdown(description='Task:', options=('Addition', 'Multiplication', 'Subtraction', 'Division'), value='Additi…"
      ]
     },
     "metadata": {},
     "output_type": "display_data"
    }
   ],
   "source": [
    "w = widgets.Dropdown(\n",
    "    options=['Addition', 'Multiplication', 'Subtraction', 'Division'],\n",
    "    value='Addition',\n",
    "    description='Task:',\n",
    ")\n",
    "\n",
    "def on_change(change):\n",
    "    if change['type'] == 'change' and change['name'] == 'value':\n",
    "        print(\"changed to %s\" % change['new'])\n",
    "\n",
    "w.observe(on_change)\n",
    "\n",
    "display(w)"
   ]
  }
 ],
 "metadata": {
  "kernelspec": {
   "display_name": "Python 3 (ipykernel)",
   "language": "python",
   "name": "python3"
  },
  "language_info": {
   "codemirror_mode": {
    "name": "ipython",
    "version": 3
   },
   "file_extension": ".py",
   "mimetype": "text/x-python",
   "name": "python",
   "nbconvert_exporter": "python",
   "pygments_lexer": "ipython3",
   "version": "3.9.12"
  }
 },
 "nbformat": 4,
 "nbformat_minor": 5
}
