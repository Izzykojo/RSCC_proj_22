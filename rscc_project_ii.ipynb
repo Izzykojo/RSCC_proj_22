{
 "cells": [
  {
   "cell_type": "code",
   "execution_count": 2,
   "id": "d04a3423",
   "metadata": {},
   "outputs": [],
   "source": [
    "import pandas as pd\n",
    "import seaborn as sns\n",
    "sns.set(color_codes=True)"
   ]
  },
  {
   "cell_type": "code",
   "execution_count": 4,
   "id": "7fbe4029",
   "metadata": {
    "scrolled": false
   },
   "outputs": [
    {
     "name": "stdout",
     "output_type": "stream",
     "text": [
      "                                      Official Image                 Name  \\\n",
      "0  https://drive.google.com/open?id=1-lS6yffi707l...          Kweku Afful   \n",
      "1  https://drive.google.com/open?id=1zt3FFi3Hpo6p...   Israel Sarpong-Adu   \n",
      "2  https://drive.google.com/open?id=1lLE1C3-_02t_...  Michael Owusu Agyei   \n",
      "3  https://drive.google.com/open?id=1JS0GOIrv5TAN...        Nusrat Hameed   \n",
      "\n",
      "                          Email              Address  Phone number  \\\n",
      "0        kwekufidelis@gmail.com  Adentan SSNIT flats     557823576   \n",
      "1            izzykojo@gmail.com          GE-270-7088     244702414   \n",
      "2  micagyeiowu4002021@gmail.com  P.O BOX 39, NSAWAM.     550656514   \n",
      "3     nusrathameed551@gmail.com           GC-030-300     241334551   \n",
      "\n",
      "    Workplace                    Your Role  Unnamed: 7  Unnamed: 8  \n",
      "0      GSSTI           Research Assistant          NaN         NaN  \n",
      "1  RSCC-GSSTI     National Service Person          NaN         NaN  \n",
      "2      GSSTI       National Service Person         NaN         NaN  \n",
      "3  RSCC-GSSTI  National Service Personnel          NaN         NaN  \n"
     ]
    }
   ],
   "source": [
    "df = pd.read_csv (r'D:\\IZZY\\GSSTI\\2022 Project\\rscc_project_ii.csv')\n",
    "print (df)"
   ]
  },
  {
   "cell_type": "code",
   "execution_count": 8,
   "id": "fbd8437e",
   "metadata": {
    "scrolled": true
   },
   "outputs": [
    {
     "name": "stdout",
     "output_type": "stream",
     "text": [
      "                                      Official Image                 Name  \\\n",
      "0  https://drive.google.com/open?id=1-lS6yffi707l...          Kweku Afful   \n",
      "1  https://drive.google.com/open?id=1zt3FFi3Hpo6p...   Israel Sarpong-Adu   \n",
      "2  https://drive.google.com/open?id=1lLE1C3-_02t_...  Michael Owusu Agyei   \n",
      "3                                                NaN        Nusrat Hameed   \n",
      "\n",
      "                          Email              Address  Phone number  \\\n",
      "0        kwekufidelis@gmail.com  Adentan SSNIT flats  233557823576   \n",
      "1            izzykojo@gmail.com          GE-270-7088  233244702414   \n",
      "2  micagyeiowu4002021@gmail.com  P.O BOX 39, NSAWAM.  233550656514   \n",
      "3     nusrathameed551@gmail.com           GC-030-300  233241334551   \n",
      "\n",
      "    Workplace                    Your Role  \n",
      "0      GSSTI           Research Assistant   \n",
      "1  RSCC-GSSTI     National Service Person   \n",
      "2      GSSTI       National Service Person  \n",
      "3  RSCC-GSSTI  National Service Personnel   \n"
     ]
    }
   ],
   "source": [
    "proj = pd.read_excel (r'D:\\IZZY\\GSSTI\\2022 Project\\rscc_project_ii_2.xlsx')\n",
    "print (proj)"
   ]
  }
 ],
 "metadata": {
  "kernelspec": {
   "display_name": "Python 3 (ipykernel)",
   "language": "python",
   "name": "python3"
  },
  "language_info": {
   "codemirror_mode": {
    "name": "ipython",
    "version": 3
   },
   "file_extension": ".py",
   "mimetype": "text/x-python",
   "name": "python",
   "nbconvert_exporter": "python",
   "pygments_lexer": "ipython3",
   "version": "3.9.12"
  }
 },
 "nbformat": 4,
 "nbformat_minor": 5
}
